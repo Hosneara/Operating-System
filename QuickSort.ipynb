{
 "cells": [
  {
   "cell_type": "code",
   "execution_count": null,
   "metadata": {},
   "outputs": [],
   "source": [
    "import random\n",
    "import time\n",
    "import numpy as np\n",
    "\n",
    "\n",
    "def quick_pivot_first(arr):\n",
    "    if len(arr) == 0:\n",
    "        return []\n",
    "    pivot = arr[0]\n",
    "    left = []\n",
    "    right = []\n",
    "    \n",
    "    left = list(filter(lambda x: x < pivot, arr))\n",
    "    right = list(filter(lambda x: x > pivot, arr))\n",
    "    \n",
    "    return quick_pivot_first(left) + [pivot] + quick_pivot_first(right)\n",
    "\n",
    "def partition(arr, left, right):\n",
    "    pivot = arr[right]\n",
    "    index = left\n",
    "    for i in range(left, right):\n",
    "        if arr[i] <= pivot:\n",
    "            arr[i], arr[index] = arr[index], arr[i]\n",
    "            index += 1\n",
    "    arr[index], arr[right] = arr[right], arr[index]\n",
    "    return index\n",
    "\n",
    "def partition_random(arr, left, right):\n",
    "    n = random.randint(left, right)\n",
    "    arr[n], arr[right] = arr[right], arr[n]\n",
    "    return partition(arr, left, right)\n",
    "\n",
    "def quick_random(arr, low, high):\n",
    "    if low >= high:\n",
    "        return []\n",
    "    left = []\n",
    "    right = []\n",
    "\n",
    "    index = random.randint(low, high)\n",
    "    #print(low, high, index)\n",
    "    pivot = arr[index]\n",
    "    left = list(filter(lambda x: x < pivot, arr))\n",
    "    right = list(filter(lambda x: x > pivot, arr))\n",
    "    return quick_random(left, 0, len(left)-1) + [pivot] + quick_random(right, 0, len(right)-1)\n",
    "\n",
    "\n",
    "if __name__ == \"__main__\":\n",
    "    #1000, 10000, 100000, 1000000, 10000000\n",
    "    n = 10000\n",
    "    arr1 = random.sample(range(n), n)\n",
    "    arr2 = arr1.copy()\n",
    "    len_ = len(arr2) - 1\n",
    "    \n",
    "    #start = time.time()\n",
    "    quick_pivot_first(arr1)\n",
    "    #print(str(n)+\" pivot first time: \"+str(time.time() - start))\n",
    "    \n",
    "    start = time.time()\n",
    "    #a = quick_random(arr2, 0, len_)\n",
    "    print(str(n)+\" pivot random time: \"+str(time.time() - start))\n",
    "    #print(a)"
   ]
  },
  {
   "cell_type": "markdown",
   "metadata": {},
   "source": [
    "# PySpark"
   ]
  },
  {
   "cell_type": "code",
   "execution_count": null,
   "metadata": {},
   "outputs": [],
   "source": [
    "\n",
    "from pyspark import SparkContext, SparkConf\n",
    "\n",
    "sc = SparkContext.getOrCreate()\n",
    "#sc = SparkContext(\"local\", \"QuickSort\")\n",
    "\n",
    "n = 100\n",
    "\n",
    "#data = random.sample(range(n), n)\n",
    "data = range(n)\n",
    "rdd = sc.parallelize(data)\n",
    "\n",
    "def quicksort(rdd, th):\n",
    "    n = rdd.count()\n",
    "    if n <= th:  \n",
    "        return quick_pivot_first(rdd.collect())\n",
    "        #return quick_random(rdd.collect(), 0, n-1)\n",
    "        #return rdd.sortBy(lambda x: x).collect()\n",
    "        #q = quick_random(rdd.collect(), 0, n-1)\n",
    "    \n",
    "    pivot = rdd.takeSample(False, 1)\n",
    "    pivot = pivot[0] \n",
    "    left = rdd.filter(lambda x: x < pivot)\n",
    "    right = rdd.filter(lambda x: x >= pivot)\n",
    "    \n",
    "    return quicksort(left, th) + quicksort(right, th)\n",
    "\n",
    "start = time.time()\n",
    "result = quicksort(rdd, max(rdd.count() * 0.3, 100))\n",
    "end = time.time()\n",
    "print(str(end - start))\n",
    "with open(\"runtime.txt\", \"a\") as f:\n",
    "    f.write(\"Sorted data, first element as pivot\\n max 100, n = \"+str(n) +\"\\n\")\n",
    "    f.write(str(end - start) + \"\\n\")"
   ]
  },
  {
   "cell_type": "code",
   "execution_count": null,
   "metadata": {},
   "outputs": [],
   "source": [
    "#--------------Random data, Random element pivot----------------\n",
    "# n = 10^3 : 256.50988364219666, max(rdd.count() * 0.2, 100)\n",
    "# n = 10^3: 341.2896497249603, max(rdd.count() * 0.2, 10)\n",
    "\n",
    "# n = 10^3 : 7.44262433052063, max(rdd.count() * 0.3, 1000)\n",
    "# n = 10^4 : 107.05189633369446 , max(rdd.count() * 0.3, 1000)\n",
    "# n = 10^5 : 230.27300763130188 , max(rdd.count() * 0.3, 1000)\n",
    "# n = 10^6 : 217.59413886070251 , max(rdd.count() * 0.3, 1000)\n",
    "# n = 10^7 : 309.6557824611664 , max(rdd.count() * 0.3, 1000)\n",
    "\n",
    "#--------------Sorted, Random element pivot---------------------\n",
    "# n = 10^3 : 12.57955551147461 , max(rdd.count() * 0.3, 1000)\n",
    "# n = 10^4 : 135.81099581718445 , max(rdd.count() * 0.3, 1000)\n",
    "# n = 10^5 : 103.72915506362915 , max(rdd.count() * 0.3, 1000)\n",
    "# n = 10^6 : 169.46816682815552 , max(rdd.count() * 0.3, 1000)\n",
    "# n = 10^7 : 183.5217707157135 , max(rdd.count() * 0.3, 1000)\n",
    "\n",
    "#--------------Random data, First element pivot-----------------\n",
    "# n = 10^3 : 7.416630268096924 , max(rdd.count() * 0.3, 1000)\n",
    "# n = 10^4 : 158.62151956558228 , max(rdd.count() * 0.3, 1000)\n",
    "# n = 10^5 : 157.78868794441223 , max(rdd.count() * 0.3, 1000)\n",
    "# n = 10^6 : 142.17204546928406 , max(rdd.count() * 0.3, 1000)\n",
    "# n = 10^7 : 272.95424938201904 , max(rdd.count() * 0.3, 1000)"
   ]
  },
  {
   "cell_type": "code",
   "execution_count": null,
   "metadata": {},
   "outputs": [],
   "source": [
    "sc"
   ]
  },
  {
   "cell_type": "code",
   "execution_count": null,
   "metadata": {},
   "outputs": [],
   "source": [
    "n = 1000\n",
    "\n",
    "data = random.sample(range(n), n)\n",
    "rdd = sc.parallelize(data)"
   ]
  },
  {
   "cell_type": "code",
   "execution_count": null,
   "metadata": {},
   "outputs": [],
   "source": [
    "start = time.time()\n",
    "#rdd.collect()\n",
    "rdd.sortBy(lambda x:x).collect()\n",
    "end = time.time()\n",
    "print(str(end - start))\n",
    "\n",
    "start = time.time()\n",
    "#take = rdd.takeSample(False, n)\n",
    "quick_random(rdd.collect(), 0, n-1)\n",
    "end = time.time()\n",
    "print(str(end - start))"
   ]
  },
  {
   "cell_type": "code",
   "execution_count": null,
   "metadata": {},
   "outputs": [],
   "source": [
    "type(take)"
   ]
  },
  {
   "cell_type": "code",
   "execution_count": null,
   "metadata": {},
   "outputs": [],
   "source": []
  }
 ],
 "metadata": {
  "kernelspec": {
   "display_name": "Python 3",
   "language": "python",
   "name": "python3"
  },
  "language_info": {
   "codemirror_mode": {
    "name": "ipython",
    "version": 3
   },
   "file_extension": ".py",
   "mimetype": "text/x-python",
   "name": "python",
   "nbconvert_exporter": "python",
   "pygments_lexer": "ipython3",
   "version": "3.7.4"
  }
 },
 "nbformat": 4,
 "nbformat_minor": 2
}
