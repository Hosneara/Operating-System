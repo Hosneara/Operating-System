{
 "cells": [
  {
   "cell_type": "code",
   "execution_count": null,
   "metadata": {},
   "outputs": [],
   "source": [
    "import random\n",
    "import time\n",
    "import numpy as np"
   ]
  },
  {
   "cell_type": "code",
   "execution_count": null,
   "metadata": {},
   "outputs": [],
   "source": [
    "def quick_pivot_first(arr):\n",
    "    if len(arr) == 0:\n",
    "        return []\n",
    "    pivot = arr[0]\n",
    "    left = []\n",
    "    right = []\n",
    "    \n",
    "    left = list(filter(lambda x: x < pivot, arr))\n",
    "    right = list(filter(lambda x: x > pivot, arr))\n",
    "    \n",
    "    return quick_pivot_first(left) + [pivot] + quick_pivot_first(right)\n",
    "\n",
    "def partition(arr, left, right):\n",
    "    pivot = arr[right]\n",
    "    index = left\n",
    "    for i in range(left, right):\n",
    "        if arr[i] <= pivot:\n",
    "            arr[i], arr[index] = arr[index], arr[i]\n",
    "            index += 1\n",
    "    arr[index], arr[right] = arr[right], arr[index]\n",
    "    return index\n",
    "\n",
    "def partition_random(arr, left, right):\n",
    "    n = random.randint(left, right)\n",
    "    arr[n], arr[right] = arr[right], arr[n]\n",
    "    return partition(arr, left, right)\n",
    "\n",
    "def quick_random(arr, low, high):\n",
    "    if low >= high:\n",
    "        return []\n",
    "    left = []\n",
    "    right = []\n",
    "\n",
    "    index = random.randint(low, high)\n",
    "    pivot = arr[index]\n",
    "    left = list(filter(lambda x: x < pivot, arr))\n",
    "    right = list(filter(lambda x: x > pivot, arr))\n",
    "    return quick_random(left, 0, len(left)-1) + [pivot] + quick_random(right, 0, len(right)-1)\n",
    "\n",
    "\n",
    "n = 100\n",
    "arr1 = random.sample(range(n), n)\n",
    "arr2 = arr1.copy()\n",
    "len_ = len(arr2) - 1"
   ]
  },
  {
   "cell_type": "code",
   "execution_count": null,
   "metadata": {},
   "outputs": [],
   "source": [
    "start = time.time()\n",
    "quick_pivot_first(arr1)\n",
    "print(str(n)+\" elements, pivot(first), runtime: \"+str(time.time() - start))\n",
    "\n",
    "start = time.time()\n",
    "a = quick_random(arr2, 0, len_)\n",
    "print(str(n)+\" elements, pivot(random), runtime: \"+str(time.time() - start))"
   ]
  },
  {
   "cell_type": "markdown",
   "metadata": {},
   "source": [
    "# PySpark"
   ]
  },
  {
   "cell_type": "code",
   "execution_count": null,
   "metadata": {},
   "outputs": [],
   "source": [
    "from pyspark import SparkContext, SparkConf\n",
    "\n",
    "sc = SparkContext.getOrCreate()\n",
    "\n",
    "n = 1000\n",
    "\n",
    "data = random.sample(range(n), n)\n",
    "data = range(n)\n",
    "rdd = sc.parallelize(data)\n",
    "\n",
    "def quicksort(rdd, th):\n",
    "    n = rdd.count()\n",
    "    if n <= th:  \n",
    "        return quick_random(rdd.collect(), 0, n-1)\n",
    "    \n",
    "    pivot = rdd.takeSample(False, 1)\n",
    "    pivot = pivot[0] \n",
    "    left = rdd.filter(lambda x: x < pivot)\n",
    "    right = rdd.filter(lambda x: x >= pivot)\n",
    "    \n",
    "    return quicksort(left, th) + quicksort(right, th)\n",
    "\n",
    "start = time.time()\n",
    "result = quicksort(rdd, max(rdd.count() * 0.3, 1000))\n",
    "end = time.time()\n",
    "print(str(end - start))\n",
    "\n",
    "with open(\"runtime.txt\", \"a\") as f:\n",
    "    f.write(str(n) +\"\\n\")\n",
    "    f.write(str(end - start) + \"\\n\")"
   ]
  },
  {
   "cell_type": "code",
   "execution_count": null,
   "metadata": {},
   "outputs": [],
   "source": []
  },
  {
   "cell_type": "code",
   "execution_count": null,
   "metadata": {},
   "outputs": [],
   "source": []
  },
  {
   "cell_type": "code",
   "execution_count": null,
   "metadata": {},
   "outputs": [],
   "source": []
  },
  {
   "cell_type": "code",
   "execution_count": null,
   "metadata": {},
   "outputs": [],
   "source": []
  },
  {
   "cell_type": "code",
   "execution_count": null,
   "metadata": {},
   "outputs": [],
   "source": []
  },
  {
   "cell_type": "code",
   "execution_count": null,
   "metadata": {},
   "outputs": [],
   "source": []
  }
 ],
 "metadata": {
  "kernelspec": {
   "display_name": "Python 3",
   "language": "python",
   "name": "python3"
  },
  "language_info": {
   "codemirror_mode": {
    "name": "ipython",
    "version": 3
   },
   "file_extension": ".py",
   "mimetype": "text/x-python",
   "name": "python",
   "nbconvert_exporter": "python",
   "pygments_lexer": "ipython3",
   "version": "3.7.4"
  }
 },
 "nbformat": 4,
 "nbformat_minor": 2
}
